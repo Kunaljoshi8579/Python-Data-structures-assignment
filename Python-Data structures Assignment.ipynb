{
 "cells": [
  {
   "cell_type": "code",
   "execution_count": 1,
   "id": "f27f4b02-4c80-4278-ac8f-81b1fee8f961",
   "metadata": {},
   "outputs": [],
   "source": [
    "# Ans 1"
   ]
  },
  {
   "cell_type": "code",
   "execution_count": 3,
   "id": "829aa080-9ea9-4c46-846e-ae091f9fabef",
   "metadata": {},
   "outputs": [],
   "source": [
    "# There are two main types of comments in Python: single-line comments and multi-line comments."
   ]
  },
  {
   "cell_type": "code",
   "execution_count": 4,
   "id": "92759ce3-7700-4355-bcb6-e30f7016e9db",
   "metadata": {},
   "outputs": [],
   "source": [
    "# Single-Line Comments: Single-line comments are used to add comments on a single line. They are typically used for brief explanations of code. Single-line comments in Python start with the # character and continue until the end of the line."
   ]
  },
  {
   "cell_type": "code",
   "execution_count": 11,
   "id": "5952f5bd-f71d-4d24-a732-a239161be4ee",
   "metadata": {},
   "outputs": [
    {
     "data": {
      "text/plain": [
       "'Multi-Line Comments:\\nMulti-line comments are used for more detailed documentation, often spanning multiple lines.\\nIn Python, multi-line comments are commonly created using triple double-quotes  triple single-quotes'"
      ]
     },
     "execution_count": 11,
     "metadata": {},
     "output_type": "execute_result"
    }
   ],
   "source": [
    "\"\"\"Multi-Line Comments:\n",
    "Multi-line comments are used for more detailed documentation, often spanning multiple lines.\n",
    "In Python, multi-line comments are commonly created using triple double-quotes  triple single-quotes\"\"\""
   ]
  },
  {
   "cell_type": "code",
   "execution_count": 12,
   "id": "eb2287e2-f6d6-4bf8-88f9-df08d6a83466",
   "metadata": {},
   "outputs": [],
   "source": [
    "# Ans 2"
   ]
  },
  {
   "cell_type": "code",
   "execution_count": 1,
   "id": "4a4809ca-1b74-4ffe-8f80-9c19e1806a2d",
   "metadata": {},
   "outputs": [],
   "source": [
    "# Variables in Python are used to store data values. To declare and assign values to variables:\n",
    "# Use the assignment operator = to assign a value to a variable.\n",
    "# Variable names must start with a letter or underscore and can contain letters, digits, and underscores.\n",
    "# Python is dynamically typed, so you don't need to declare the data type.\n",
    "# You can assign values to multiple variables in a single line.\n",
    "# Variables can have local (inside functions) or global scope (accessible throughout the program)."
   ]
  },
  {
   "cell_type": "code",
   "execution_count": 2,
   "id": "986ed941-970a-4122-9671-6ff8318238d9",
   "metadata": {},
   "outputs": [],
   "source": [
    "#Ans 3 "
   ]
  },
  {
   "cell_type": "code",
   "execution_count": 3,
   "id": "4dc73a43-24ac-46bf-bcc4-666cd270d301",
   "metadata": {},
   "outputs": [],
   "source": [
    "#You can convert one data type to another in Python using conversion functions like int(), float(), str(), and others. Python can also perform implicit type conversion in some cases."
   ]
  },
  {
   "cell_type": "code",
   "execution_count": 4,
   "id": "cc180312-13dd-4b53-baeb-8583cf8d8c3e",
   "metadata": {},
   "outputs": [],
   "source": [
    "# Ans 4"
   ]
  },
  {
   "cell_type": "code",
   "execution_count": 1,
   "id": "b026e167-a4b2-4bf7-b9ca-adf71d05a76c",
   "metadata": {},
   "outputs": [],
   "source": [
    "# To write and execute a Python script from the command line:\n",
    "\n",
    "# Write your Python code in a .py file using a text editor.\n",
    "# Open the command prompt or terminal.\n",
    "# Navigate to the script's directory using the cd command.\n",
    "# Run the script using the python command followed by the script's filename (e.g., python myscript.py)."
   ]
  },
  {
   "cell_type": "code",
   "execution_count": 2,
   "id": "4cbe3f65-f795-496a-b331-db5e956ebcef",
   "metadata": {},
   "outputs": [],
   "source": [
    "# Ans 5"
   ]
  },
  {
   "cell_type": "code",
   "execution_count": 5,
   "id": "46bc7efe-98d2-4fc2-81c4-e4ba8855714d",
   "metadata": {},
   "outputs": [
    {
     "data": {
      "text/plain": [
       "[2, 3]"
      ]
     },
     "execution_count": 5,
     "metadata": {},
     "output_type": "execute_result"
    }
   ],
   "source": [
    "# You can obtain the sub-list [2, 3] from the list my_list by using Python's list slicing. Here's the code to do that:\n",
    "\n",
    "my_list=[1,2,3,4,5]\n",
    "my_list[1:3]"
   ]
  },
  {
   "cell_type": "code",
   "execution_count": 6,
   "id": "28b78a44-e619-4c7f-8d4c-aa7afd038b6a",
   "metadata": {},
   "outputs": [],
   "source": [
    "# Ans 6"
   ]
  },
  {
   "cell_type": "code",
   "execution_count": 1,
   "id": "43f5325f-1a9f-459e-a0aa-77def8ccb5d4",
   "metadata": {},
   "outputs": [],
   "source": [
    "# A complex number in mathematics is a number of the form \"a + bi,\" where \"a\" and \"b\" are real numbers, and \"i\" represents the imaginary unit (the square root of -1). In Python, complex numbers are represented with the j or J suffix for the imaginary part. For example, 3 + 4j represents a complex number with a real part of 3 and an imaginary part of 4. Complex numbers are used to work with quantities that have both real and imaginary components in various mathematical and scientific applications."
   ]
  },
  {
   "cell_type": "code",
   "execution_count": 2,
   "id": "f002d29b-efe4-436f-81b3-3d61e302577a",
   "metadata": {},
   "outputs": [],
   "source": [
    "# Ans 7"
   ]
  },
  {
   "cell_type": "code",
   "execution_count": 3,
   "id": "36e57c17-6d64-45ec-9451-5a961c5f56fa",
   "metadata": {},
   "outputs": [],
   "source": [
    "# To declare a variable named age and assign the value 25 to it in Python, you can simply use the following code\n",
    "age= 25"
   ]
  },
  {
   "cell_type": "code",
   "execution_count": 4,
   "id": "ef598546-5c30-4274-8cfc-6c916bb418f3",
   "metadata": {},
   "outputs": [],
   "source": [
    "# Ans 8"
   ]
  },
  {
   "cell_type": "code",
   "execution_count": 5,
   "id": "9b99c55f-a25b-49f9-a8c4-d7609ae9c253",
   "metadata": {},
   "outputs": [
    {
     "data": {
      "text/plain": [
       "float"
      ]
     },
     "execution_count": 5,
     "metadata": {},
     "output_type": "execute_result"
    }
   ],
   "source": [
    "# To declare a variable named price and assign the value 9.99 to it in Python, you can use the following code\n",
    "# The variable price belongs to the data type \"float.\"\n",
    "price = 9.99\n",
    "type(price)"
   ]
  },
  {
   "cell_type": "code",
   "execution_count": 6,
   "id": "30bb697f-60c6-4a2d-856c-c8462c3e464c",
   "metadata": {},
   "outputs": [],
   "source": [
    "# Ans 9"
   ]
  },
  {
   "cell_type": "code",
   "execution_count": 7,
   "id": "7c15614c-52b4-446f-bca9-1759732368f4",
   "metadata": {},
   "outputs": [
    {
     "name": "stdout",
     "output_type": "stream",
     "text": [
      "Kuanl Joshi\n"
     ]
    }
   ],
   "source": [
    "# To create a variable named name and assign your full name \"Kunal Joshi\" to it as a string, you can use the following code\n",
    "name= \"Kuanl Joshi\"\n",
    "print(name)"
   ]
  },
  {
   "cell_type": "code",
   "execution_count": 8,
   "id": "a0c7d59c-cffa-4afa-b1e6-f51875624630",
   "metadata": {},
   "outputs": [],
   "source": [
    "# Ans 10"
   ]
  },
  {
   "cell_type": "code",
   "execution_count": 11,
   "id": "8eb495d1-91bd-4890-a43b-5bb13d0f94ff",
   "metadata": {},
   "outputs": [
    {
     "data": {
      "text/plain": [
       "'world'"
      ]
     },
     "execution_count": 11,
     "metadata": {},
     "output_type": "execute_result"
    }
   ],
   "source": [
    "a= \"Hello world!\"\n",
    "a[6:11]"
   ]
  },
  {
   "cell_type": "code",
   "execution_count": 15,
   "id": "5d7ec458-38bd-436d-8fea-710336776d2d",
   "metadata": {},
   "outputs": [],
   "source": [
    "# Ans 11"
   ]
  },
  {
   "cell_type": "code",
   "execution_count": 14,
   "id": "146e400e-c13d-42f1-a8fe-acc116f8dd59",
   "metadata": {},
   "outputs": [
    {
     "name": "stdout",
     "output_type": "stream",
     "text": [
      "True\n"
     ]
    }
   ],
   "source": [
    "is_student= True\n",
    "print(is_student)"
   ]
  },
  {
   "cell_type": "code",
   "execution_count": null,
   "id": "88888694-9392-47af-8389-0202bc27a38a",
   "metadata": {},
   "outputs": [],
   "source": []
  }
 ],
 "metadata": {
  "kernelspec": {
   "display_name": "Python 3 (ipykernel)",
   "language": "python",
   "name": "python3"
  },
  "language_info": {
   "codemirror_mode": {
    "name": "ipython",
    "version": 3
   },
   "file_extension": ".py",
   "mimetype": "text/x-python",
   "name": "python",
   "nbconvert_exporter": "python",
   "pygments_lexer": "ipython3",
   "version": "3.10.8"
  }
 },
 "nbformat": 4,
 "nbformat_minor": 5
}
